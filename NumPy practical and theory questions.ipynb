{
 "cells": [
  {
   "cell_type": "markdown",
   "id": "8f3e44ed",
   "metadata": {},
   "source": [
    "# NumPy Assigmenmt (pratical questions)"
   ]
  },
  {
   "cell_type": "markdown",
   "id": "d76a4860",
   "metadata": {},
   "source": [
    "Question 1)\n",
    "\n",
    "Create a 3x3 NumPy array with random integers between 1 and 100. Then, interchange its rows and columns."
   ]
  },
  {
   "cell_type": "code",
   "execution_count": 14,
   "id": "802780df",
   "metadata": {},
   "outputs": [
    {
     "data": {
      "text/plain": [
       "array([[79, 60, 13],\n",
       "       [82, 39, 74],\n",
       "       [53, 95, 33]])"
      ]
     },
     "execution_count": 14,
     "metadata": {},
     "output_type": "execute_result"
    }
   ],
   "source": [
    "# we will import numpy\n",
    "import numpy as np\n",
    "\n",
    "# we will import random()\n",
    "import random\n",
    "\n",
    "arr= np.random.randint(1,101, size=(3,3))\n",
    "arr\n"
   ]
  },
  {
   "cell_type": "code",
   "execution_count": 15,
   "id": "8fbf0e5b",
   "metadata": {},
   "outputs": [
    {
     "data": {
      "text/plain": [
       "array([[79, 82, 53],\n",
       "       [60, 39, 95],\n",
       "       [13, 74, 33]])"
      ]
     },
     "execution_count": 15,
     "metadata": {},
     "output_type": "execute_result"
    }
   ],
   "source": [
    "arr1 = arr.T #it will interchange the or transpose the array\n",
    "arr1"
   ]
  },
  {
   "cell_type": "markdown",
   "id": "c108c0e6",
   "metadata": {},
   "source": [
    "Question 2)\n",
    "\n",
    " Generate a 1D NumPy array with 10 elements. Reshape it into a 2x5 array, then into a 5x2 array.\n",
    "\n",
    "\n"
   ]
  },
  {
   "cell_type": "code",
   "execution_count": 18,
   "id": "d1a0dc0f",
   "metadata": {},
   "outputs": [
    {
     "data": {
      "text/plain": [
       "array([ 1,  2,  3,  4,  5,  6,  7,  8,  9, 10])"
      ]
     },
     "execution_count": 18,
     "metadata": {},
     "output_type": "execute_result"
    }
   ],
   "source": [
    "arr= np.array([1,2,3,4,5,6,7,8,9,10])\n",
    " \n",
    "arr"
   ]
  },
  {
   "cell_type": "code",
   "execution_count": 19,
   "id": "046aea16",
   "metadata": {},
   "outputs": [
    {
     "data": {
      "text/plain": [
       "array([[ 1,  2,  3,  4,  5],\n",
       "       [ 6,  7,  8,  9, 10]])"
      ]
     },
     "execution_count": 19,
     "metadata": {},
     "output_type": "execute_result"
    }
   ],
   "source": [
    "np.reshape(arr,(2,5))\n"
   ]
  },
  {
   "cell_type": "code",
   "execution_count": 20,
   "id": "f8cc8e13",
   "metadata": {},
   "outputs": [
    {
     "data": {
      "text/plain": [
       "array([[ 1,  2],\n",
       "       [ 3,  4],\n",
       "       [ 5,  6],\n",
       "       [ 7,  8],\n",
       "       [ 9, 10]])"
      ]
     },
     "execution_count": 20,
     "metadata": {},
     "output_type": "execute_result"
    }
   ],
   "source": [
    "np.reshape(arr,(5,2))"
   ]
  },
  {
   "cell_type": "markdown",
   "id": "8e7b038b",
   "metadata": {},
   "source": [
    "Question 3)\n",
    "\n",
    "Create a 4x4 NumPy array with random float values. Add a border of zeros around it, resulting in a 6x6 array"
   ]
  },
  {
   "cell_type": "code",
   "execution_count": 26,
   "id": "ac417e3f",
   "metadata": {},
   "outputs": [
    {
     "name": "stdout",
     "output_type": "stream",
     "text": [
      "Original 4x4 Array:\n",
      " [[0.80409162 0.80122917 0.84642919 0.07980232]\n",
      " [0.10316009 0.49824668 0.70993225 0.07998376]\n",
      " [0.68480119 0.70818938 0.68637073 0.34550997]\n",
      " [0.59206626 0.24985747 0.37643301 0.51597769]]\n",
      "\n",
      "6x6 Array with Zero Border:\n",
      " [[0.         0.         0.         0.         0.         0.        ]\n",
      " [0.         0.80409162 0.80122917 0.84642919 0.07980232 0.        ]\n",
      " [0.         0.10316009 0.49824668 0.70993225 0.07998376 0.        ]\n",
      " [0.         0.68480119 0.70818938 0.68637073 0.34550997 0.        ]\n",
      " [0.         0.59206626 0.24985747 0.37643301 0.51597769 0.        ]\n",
      " [0.         0.         0.         0.         0.         0.        ]]\n"
     ]
    }
   ],
   "source": [
    "\n",
    "array_4x4 = np.random.random((4, 4))\n",
    "\n",
    "array_6x6 = np.pad(array_4x4, pad_width=1, mode='constant', constant_values=0)\n",
    "\n",
    "print(\"Original 4x4 Array:\\n\", array_4x4)\n",
    "print(\"\\n6x6 Array with Zero Border:\\n\", array_6x6)"
   ]
  },
  {
   "cell_type": "markdown",
   "id": "c01bfcfd",
   "metadata": {},
   "source": [
    "Question 4)\n",
    "\n",
    "Using NumPy, create an array of integers from 10 to 60 with a step of 5.\n",
    "\n",
    "\n"
   ]
  },
  {
   "cell_type": "code",
   "execution_count": 27,
   "id": "08df236e",
   "metadata": {},
   "outputs": [
    {
     "data": {
      "text/plain": [
       "array([10, 15, 20, 25, 30, 35, 40, 45, 50, 55, 60])"
      ]
     },
     "execution_count": 27,
     "metadata": {},
     "output_type": "execute_result"
    }
   ],
   "source": [
    "arr=np.arange(10,61,5)\n",
    "arr"
   ]
  },
  {
   "cell_type": "markdown",
   "id": "136bf829",
   "metadata": {},
   "source": [
    "Question 5)\n",
    "\n",
    " Create a NumPy array of strings ['python', 'numpy', 'pandas']. Apply different case transformations\n",
    "(uppercase, lowercase, title case, etc.) to each element."
   ]
  },
  {
   "cell_type": "code",
   "execution_count": 28,
   "id": "de2eb7de",
   "metadata": {},
   "outputs": [
    {
     "data": {
      "text/plain": [
       "array(['python', 'numpy', 'pandas'], dtype='<U6')"
      ]
     },
     "execution_count": 28,
     "metadata": {},
     "output_type": "execute_result"
    }
   ],
   "source": [
    "arr=np.array(['python','numpy','pandas'])\n",
    "arr"
   ]
  },
  {
   "cell_type": "code",
   "execution_count": 31,
   "id": "40d197de",
   "metadata": {},
   "outputs": [
    {
     "data": {
      "text/plain": [
       "array(['PYTHON', 'NUMPY', 'PANDAS'], dtype='<U6')"
      ]
     },
     "execution_count": 31,
     "metadata": {},
     "output_type": "execute_result"
    }
   ],
   "source": [
    "np.char.upper(arr)"
   ]
  },
  {
   "cell_type": "code",
   "execution_count": 32,
   "id": "00c84cb7",
   "metadata": {},
   "outputs": [
    {
     "data": {
      "text/plain": [
       "array(['python', 'numpy', 'pandas'], dtype='<U6')"
      ]
     },
     "execution_count": 32,
     "metadata": {},
     "output_type": "execute_result"
    }
   ],
   "source": [
    "np.char.lower(arr)"
   ]
  },
  {
   "cell_type": "code",
   "execution_count": 33,
   "id": "b12ea07f",
   "metadata": {},
   "outputs": [
    {
     "data": {
      "text/plain": [
       "array(['Python', 'Numpy', 'Pandas'], dtype='<U6')"
      ]
     },
     "execution_count": 33,
     "metadata": {},
     "output_type": "execute_result"
    }
   ],
   "source": [
    "np.char.title(arr)"
   ]
  },
  {
   "cell_type": "markdown",
   "id": "72849b77",
   "metadata": {},
   "source": [
    "Question 6)\n",
    "\n",
    "Generate a NumPy array of words. Insert a space between each character of every word in the array.\n",
    "\n",
    "\n"
   ]
  },
  {
   "cell_type": "code",
   "execution_count": 34,
   "id": "24dc6298",
   "metadata": {},
   "outputs": [
    {
     "data": {
      "text/plain": [
       "array(['apple', 'banana', 'cherry', 'date', 'elderberry'], dtype='<U10')"
      ]
     },
     "execution_count": 34,
     "metadata": {},
     "output_type": "execute_result"
    }
   ],
   "source": [
    "words = np.array([\"apple\", \"banana\", \"cherry\", \"date\", \"elderberry\"])\n",
    "words"
   ]
  },
  {
   "cell_type": "code",
   "execution_count": 40,
   "id": "b41913ac",
   "metadata": {},
   "outputs": [
    {
     "data": {
      "text/plain": [
       "array(['a p p l e', 'b a n a n a', 'c h e r r y', 'd a t e',\n",
       "       'e l d e r b e r r y'], dtype='<U19')"
      ]
     },
     "execution_count": 40,
     "metadata": {},
     "output_type": "execute_result"
    }
   ],
   "source": [
    "np.char.join(\" \", words)"
   ]
  },
  {
   "cell_type": "markdown",
   "id": "97673caf",
   "metadata": {},
   "source": [
    "Question 7) \n",
    "\n",
    "Create two 2D NumPy arrays and perform element-wise addition, subtraction, multiplication, and division.\n",
    "\n",
    "\n"
   ]
  },
  {
   "cell_type": "code",
   "execution_count": 52,
   "id": "af32e1c4",
   "metadata": {},
   "outputs": [
    {
     "name": "stdout",
     "output_type": "stream",
     "text": [
      "[[8 1]\n",
      " [9 8]]\n",
      "\n",
      "[[17 11]\n",
      " [16 12]]\n"
     ]
    }
   ],
   "source": [
    "arr1=np.random.randint(1,10,(2,2))\n",
    "arr2=np.random.randint(10,20,(2,2))\n",
    "print(arr1)\n",
    "print()\n",
    "print(arr2)\n"
   ]
  },
  {
   "cell_type": "code",
   "execution_count": 51,
   "id": "d6c38f1d",
   "metadata": {},
   "outputs": [
    {
     "data": {
      "text/plain": [
       "array([[16, 19],\n",
       "       [21, 24]])"
      ]
     },
     "execution_count": 51,
     "metadata": {},
     "output_type": "execute_result"
    }
   ],
   "source": [
    "\n",
    "arr1+arr2"
   ]
  },
  {
   "cell_type": "code",
   "execution_count": 48,
   "id": "6d1e8923",
   "metadata": {},
   "outputs": [
    {
     "data": {
      "text/plain": [
       "array([[-10,  -1],\n",
       "       [ -9, -12]])"
      ]
     },
     "execution_count": 48,
     "metadata": {},
     "output_type": "execute_result"
    }
   ],
   "source": [
    "arr1-arr2"
   ]
  },
  {
   "cell_type": "code",
   "execution_count": 49,
   "id": "bb49c7df",
   "metadata": {},
   "outputs": [
    {
     "data": {
      "text/plain": [
       "array([[ 39,  90],\n",
       "       [ 90, 108]])"
      ]
     },
     "execution_count": 49,
     "metadata": {},
     "output_type": "execute_result"
    }
   ],
   "source": [
    "arr1*arr2"
   ]
  },
  {
   "cell_type": "code",
   "execution_count": 50,
   "id": "b8dbe3ff",
   "metadata": {},
   "outputs": [
    {
     "data": {
      "text/plain": [
       "array([[0.23076923, 0.9       ],\n",
       "       [0.4       , 0.33333333]])"
      ]
     },
     "execution_count": 50,
     "metadata": {},
     "output_type": "execute_result"
    }
   ],
   "source": [
    "arr1/arr2"
   ]
  },
  {
   "cell_type": "markdown",
   "id": "ffde0d0e",
   "metadata": {},
   "source": [
    "Question 8)\n",
    "\n",
    " Use NumPy to create a 5x5 identity matrix, then extract its diagonal elements."
   ]
  },
  {
   "cell_type": "code",
   "execution_count": 53,
   "id": "6ab77059",
   "metadata": {},
   "outputs": [
    {
     "data": {
      "text/plain": [
       "array([[1., 0., 0., 0., 0.],\n",
       "       [0., 1., 0., 0., 0.],\n",
       "       [0., 0., 1., 0., 0.],\n",
       "       [0., 0., 0., 1., 0.],\n",
       "       [0., 0., 0., 0., 1.]])"
      ]
     },
     "execution_count": 53,
     "metadata": {},
     "output_type": "execute_result"
    }
   ],
   "source": [
    "matrix=np.eye(5)\n",
    "matrix"
   ]
  },
  {
   "cell_type": "code",
   "execution_count": 54,
   "id": "0baad567",
   "metadata": {},
   "outputs": [
    {
     "data": {
      "text/plain": [
       "array([1., 1., 1., 1., 1.])"
      ]
     },
     "execution_count": 54,
     "metadata": {},
     "output_type": "execute_result"
    }
   ],
   "source": [
    "np.diagonal(matrix)"
   ]
  },
  {
   "cell_type": "markdown",
   "id": "429c4717",
   "metadata": {},
   "source": [
    "Question 9)\n",
    "\n",
    " Generate a NumPy array of 100 random integers between 0 and 1000. Find and display all prime numbers in\n",
    "this array."
   ]
  },
  {
   "cell_type": "code",
   "execution_count": 64,
   "id": "3dbe5519",
   "metadata": {},
   "outputs": [
    {
     "data": {
      "text/plain": [
       "array([665, 946, 476, 233, 766, 846,  21, 482, 123, 128, 745, 224, 218,\n",
       "       503, 421, 723, 426, 469, 122, 305, 824, 337,  54, 224, 393, 863,\n",
       "       882, 135, 402, 963, 467, 751, 377, 136, 203, 133, 381, 171, 655,\n",
       "       213, 306, 451, 105, 929, 579, 578, 307, 511, 777, 280, 999, 618,\n",
       "       119, 707, 465, 242,  37, 717, 556,  99, 258,  57, 709,  49, 450,\n",
       "       183, 928, 601, 248,  90, 255, 221, 324, 577, 439, 868, 464, 125,\n",
       "       424, 414, 587, 510, 418, 245, 329, 252, 490, 887, 588, 947, 569,\n",
       "       531, 570, 263, 571, 168, 601, 257, 751, 706])"
      ]
     },
     "execution_count": 64,
     "metadata": {},
     "output_type": "execute_result"
    }
   ],
   "source": [
    "arr=np.random.randint(0,1001,100)\n",
    "arr"
   ]
  },
  {
   "cell_type": "code",
   "execution_count": 66,
   "id": "7ae2ae16",
   "metadata": {},
   "outputs": [
    {
     "name": "stdout",
     "output_type": "stream",
     "text": [
      "[233, 503, 421, 337, 863, 467, 751, 929, 307, 37, 709, 601, 577, 439, 587, 887, 947, 569, 263, 571, 601, 257, 751]\n"
     ]
    }
   ],
   "source": [
    "is_prime = lambda num:num>1 and all(num%i!=0 for i in range(2,int(num**.5+1)))\n",
    "prime_no= [num for num in arr if is_prime(num)]\n",
    "print(prime_no)"
   ]
  },
  {
   "cell_type": "markdown",
   "id": "65b73697",
   "metadata": {},
   "source": [
    "Question 10) \n",
    "\n",
    "Create a NumPy array representing daily temperatures for a month. Calculate and display the weekly\n",
    "averages."
   ]
  },
  {
   "cell_type": "code",
   "execution_count": 85,
   "id": "90dcbe9b",
   "metadata": {},
   "outputs": [
    {
     "data": {
      "text/plain": [
       "array([25, 28, 27, 29, 25, 27, 27, 27, 25, 27, 26, 27, 28, 29, 27, 28, 28,\n",
       "       28, 28, 25, 25, 26, 26, 27, 26, 27, 26, 27, 27, 29])"
      ]
     },
     "execution_count": 85,
     "metadata": {},
     "output_type": "execute_result"
    }
   ],
   "source": [
    "temp=np.random.randint(25,30,30)\n",
    "temp"
   ]
  },
  {
   "cell_type": "code",
   "execution_count": 84,
   "id": "e3302990",
   "metadata": {},
   "outputs": [
    {
     "name": "stdout",
     "output_type": "stream",
     "text": [
      "[28 25 25 27 27 28 29]\n",
      "\n",
      "average is  27.0\n"
     ]
    }
   ],
   "source": [
    "week1=temp[0:7]\n",
    "print(week1)\n",
    "print()\n",
    "print(\"average is \",np.mean(week1))"
   ]
  },
  {
   "cell_type": "code",
   "execution_count": 81,
   "id": "a1b77315",
   "metadata": {},
   "outputs": [
    {
     "name": "stdout",
     "output_type": "stream",
     "text": [
      "[25 25 25 27 28 25 28]\n",
      "\n",
      "average is  26.142857142857142\n"
     ]
    }
   ],
   "source": [
    "week2=temp[7:14]\n",
    "print(week2)\n",
    "print()\n",
    "print(\"average is \",np.mean(week2))"
   ]
  },
  {
   "cell_type": "code",
   "execution_count": 82,
   "id": "fb79c038",
   "metadata": {},
   "outputs": [
    {
     "name": "stdout",
     "output_type": "stream",
     "text": [
      "[29 26 27 29 25 25 29]\n",
      "\n",
      "average is  27.142857142857142\n"
     ]
    }
   ],
   "source": [
    "week3=temp[14:21]\n",
    "print(week3)\n",
    "print()\n",
    "print(\"average is \",np.mean(week3))"
   ]
  },
  {
   "cell_type": "code",
   "execution_count": 83,
   "id": "d1366e09",
   "metadata": {},
   "outputs": [
    {
     "name": "stdout",
     "output_type": "stream",
     "text": [
      "[26 28 25 28 28 28 28 25 26]\n",
      "\n",
      "average is  26.88888888888889\n"
     ]
    }
   ],
   "source": [
    "week4=temp[21:]\n",
    "print(week4)\n",
    "print()\n",
    "print(\"average is \",np.mean(week4))"
   ]
  },
  {
   "cell_type": "markdown",
   "id": "95f43653",
   "metadata": {},
   "source": [
    "# Theory Questions"
   ]
  },
  {
   "cell_type": "markdown",
   "id": "16c60be9",
   "metadata": {},
   "source": [
    "Question 1)\n",
    "\n",
    " Explain the purpose and advantages of NumPy in scientific computing and data analysis. How does it\n",
    "enhance Python's capabilities for numerical operations?\n",
    "\n",
    "Answer 1)\n",
    "\n",
    "Purpose and Advantages of NumPy in Scientific Computing:\n",
    "NumPy is a powerful Python library for numerical computing, enabling fast and efficient handling of large data sets. It enhances Python’s capabilities with its ndarray object, a high-performance multi-dimensional array, and provides a wide range of mathematical functions for operations like linear algebra, statistical computations, and Fourier transforms. The use of contiguous memory blocks improves performance and enables parallelization for faster computations."
   ]
  },
  {
   "cell_type": "markdown",
   "id": "6d7e28db",
   "metadata": {},
   "source": [
    "Question 2)\n",
    "\n",
    " Compare and contrast np.mean() and np.average() functions in NumPy. When would you use one over the\n",
    "other?\n",
    "\n",
    "Answer 2)\n",
    "\n",
    "np.mean() vs np.average():\n",
    "\n",
    "np.mean(): Computes the arithmetic mean of an array. It is simpler and used when no weights are needed.\n",
    "\n",
    "np.average(): Computes a weighted mean if weights are specified. It offers more flexibility, especially when dealing with non-uniform distributions of data.\n",
    "\n",
    "Use Case: Use np.mean() for simple averaging and np.average() when you need to apply weights to the data."
   ]
  },
  {
   "cell_type": "markdown",
   "id": "65971804",
   "metadata": {},
   "source": [
    "Question 3)\n",
    "\n",
    "Describe the methods for reversing a NumPy array along different axes. Provide examples for 1D and 2D\n",
    "arrays\n",
    "\n",
    "Answer 3)\n",
    "\n",
    "1D Array: You can reverse a 1D array using [::-1]\n",
    "\n",
    "2D Array: Reverse along different axes using flipud() (up-down) and fliplr() (left-right).\n",
    "\n",
    "We can also use np.roll() for reversing the array\n",
    "\n"
   ]
  },
  {
   "cell_type": "code",
   "execution_count": 91,
   "id": "f529d008",
   "metadata": {},
   "outputs": [
    {
     "data": {
      "text/plain": [
       "array([3, 2, 1])"
      ]
     },
     "execution_count": 91,
     "metadata": {},
     "output_type": "execute_result"
    }
   ],
   "source": [
    "arr = np.array([1, 2, 3])\n",
    "reversed_arr = arr[::-1]  \n",
    "reversed_arr\n"
   ]
  },
  {
   "cell_type": "code",
   "execution_count": 89,
   "id": "408392e3",
   "metadata": {},
   "outputs": [
    {
     "data": {
      "text/plain": [
       "array([[2, 1],\n",
       "       [4, 3]])"
      ]
     },
     "execution_count": 89,
     "metadata": {},
     "output_type": "execute_result"
    }
   ],
   "source": [
    "arr = np.array([[1, 2], [3, 4]])\n",
    "flip_ud = np.flipud(arr)   \n",
    "flip_lr = np.fliplr(arr) \n",
    "flip_ud\n",
    "flip_lr"
   ]
  },
  {
   "cell_type": "markdown",
   "id": "af911912",
   "metadata": {},
   "source": [
    "Question 4)\n",
    "\n",
    "How can you determine the data type of elements in a NumPy array? Discuss the importance of data types\n",
    "in memory management and performance.\n",
    "\n",
    "Answer 4)\n",
    "\n",
    " check the data type using the .dtype\n",
    " \n",
    " Importance: Proper data types optimize memory usage and computation speed. For example, using float32 for large arrays can significantly save memory compared to using float64.\n"
   ]
  },
  {
   "cell_type": "code",
   "execution_count": 102,
   "id": "5a65eb45",
   "metadata": {},
   "outputs": [
    {
     "name": "stdout",
     "output_type": "stream",
     "text": [
      "int32\n"
     ]
    }
   ],
   "source": [
    "arr = np.array([1, 2, 3])\n",
    "print(arr.dtype) \n"
   ]
  },
  {
   "cell_type": "markdown",
   "id": "500a9a4e",
   "metadata": {},
   "source": [
    "Question 5)\n",
    "\n",
    " Define ndarrays in NumPy and explain their key features. How do they differ from standard Python lists?\n",
    " \n",
    "Answer 5)\n",
    "\n",
    "ndarray is the core data structure in NumPy. It is a multi-dimensional array that can store homogeneous data types efficiently.\n",
    "\n",
    "Unlike Python lists, which are heterogeneous and can store mixed data types, ndarray offers better memory efficiency and faster operations.\n",
    "\n",
    "Key Features: Fixed size, fast element-wise operations, and multi-dimensional support."
   ]
  },
  {
   "cell_type": "markdown",
   "id": "cf00c149",
   "metadata": {},
   "source": [
    "Question 6)\n",
    "\n",
    "Analyze the performance benefits of NumPy arrays over Python lists for large-scale numerical operations.\n",
    "\n",
    "Answer 6)\n",
    "\n",
    "NumPy arrays are much faster than Python lists for numerical computations. This is because NumPy arrays use contiguous memory and have optimized C-based operations, leading to reduced overhead. NumPy arrays support element-wise operations, making large-scale numerical operations more efficient."
   ]
  },
  {
   "cell_type": "markdown",
   "id": "9aa47c74",
   "metadata": {},
   "source": [
    "Question 7)\n",
    "\n",
    "Compare vstack() and hstack() functions in NumPy. Provide examples demonstrating their usage and\n",
    "output.\n",
    "\n",
    "Answer 7)\n",
    "\n"
   ]
  },
  {
   "cell_type": "code",
   "execution_count": 103,
   "id": "b0146eba",
   "metadata": {},
   "outputs": [
    {
     "data": {
      "text/plain": [
       "array([[1, 2],\n",
       "       [3, 4]])"
      ]
     },
     "execution_count": 103,
     "metadata": {},
     "output_type": "execute_result"
    }
   ],
   "source": [
    "arr1 = np.array([1, 2])\n",
    "arr2 = np.array([3, 4])\n",
    "result = np.vstack((arr1, arr2))  \n",
    "result\n"
   ]
  },
  {
   "cell_type": "code",
   "execution_count": 104,
   "id": "f2a1614a",
   "metadata": {},
   "outputs": [
    {
     "data": {
      "text/plain": [
       "array([1, 2, 3, 4])"
      ]
     },
     "execution_count": 104,
     "metadata": {},
     "output_type": "execute_result"
    }
   ],
   "source": [
    "result = np.hstack((arr1, arr2))  \n",
    "result\n"
   ]
  },
  {
   "cell_type": "markdown",
   "id": "fff77d27",
   "metadata": {},
   "source": [
    "Question 8)\n",
    "\n",
    " Explain the differences between fliplr() and flipud() methods in NumPy, including their effects on various\n",
    "array dimensions.\n",
    "\n",
    "Answer 8)"
   ]
  },
  {
   "cell_type": "code",
   "execution_count": 108,
   "id": "28525449",
   "metadata": {},
   "outputs": [
    {
     "name": "stdout",
     "output_type": "stream",
     "text": [
      "[[1 2]\n",
      " [3 4]]\n",
      "\n",
      "[[2 1]\n",
      " [4 3]]\n"
     ]
    }
   ],
   "source": [
    "arr = np.array([[1, 2], [3, 4]])\n",
    "flipped = np.fliplr(arr)  \n",
    "print(arr)\n",
    "print()\n",
    "print(flipped)"
   ]
  },
  {
   "cell_type": "code",
   "execution_count": 109,
   "id": "bca89a53",
   "metadata": {},
   "outputs": [
    {
     "name": "stdout",
     "output_type": "stream",
     "text": [
      "[[1 2]\n",
      " [3 4]]\n",
      "\n",
      "[[3 4]\n",
      " [1 2]]\n"
     ]
    }
   ],
   "source": [
    "flipped = np.flipud(arr)  \n",
    "print(arr)\n",
    "print()\n",
    "print(flipped)\n"
   ]
  },
  {
   "cell_type": "markdown",
   "id": "b8830115",
   "metadata": {},
   "source": [
    "Question 9)\n",
    "\n",
    "Discuss the functionality of the array_split() method in NumPy. How does it handle uneven splits?\n",
    "\n",
    "Answer 9)\n",
    "\n",
    "This method splits an array into multiple sub-arrays. If the array can't be split evenly, the extra elements are distributed across the splits."
   ]
  },
  {
   "cell_type": "code",
   "execution_count": 110,
   "id": "21afdc71",
   "metadata": {},
   "outputs": [
    {
     "data": {
      "text/plain": [
       "[array([1, 2]), array([3, 4]), array([5]), array([6])]"
      ]
     },
     "execution_count": 110,
     "metadata": {},
     "output_type": "execute_result"
    }
   ],
   "source": [
    "arr = np.array([1, 2, 3, 4, 5, 6])\n",
    "result = np.array_split(arr, 4)  \n",
    "result\n"
   ]
  },
  {
   "cell_type": "markdown",
   "id": "c2214339",
   "metadata": {},
   "source": [
    "Question 10)\n",
    "\n",
    " Explain the concepts of vectorization and broadcasting in NumPy. How do they contribute to efficient array\n",
    "operations?\n",
    "\n",
    "Answer 10)\n",
    "\n",
    "Vectorization: Refers to applying operations to entire arrays without the need for explicit loops. This speeds up computations by utilizing low-level optimizations.\n",
    "\n",
    "Broadcasting: Allows NumPy to apply operations on arrays of different shapes, automatically expanding the smaller array to match the dimensions of the larger array. This enables efficient memory usage and operation."
   ]
  },
  {
   "cell_type": "code",
   "execution_count": null,
   "id": "b908e2aa",
   "metadata": {},
   "outputs": [],
   "source": []
  }
 ],
 "metadata": {
  "kernelspec": {
   "display_name": "Python 3 (ipykernel)",
   "language": "python",
   "name": "python3"
  },
  "language_info": {
   "codemirror_mode": {
    "name": "ipython",
    "version": 3
   },
   "file_extension": ".py",
   "mimetype": "text/x-python",
   "name": "python",
   "nbconvert_exporter": "python",
   "pygments_lexer": "ipython3",
   "version": "3.9.13"
  }
 },
 "nbformat": 4,
 "nbformat_minor": 5
}
